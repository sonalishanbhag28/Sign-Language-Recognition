{
 "cells": [
  {
   "cell_type": "markdown",
   "id": "03cd39d8",
   "metadata": {},
   "source": [
    "# American Sign Language Recognition\n",
    "\n",
    "### Review II- ML Prediction Models\n",
    "\n",
    "Sonali Shripad Shanbhag (19BDS0114) and Harsh Sharma (19BDS0139)"
   ]
  },
  {
   "cell_type": "markdown",
   "id": "a45bfb5e",
   "metadata": {},
   "source": [
    "### 1. Import required libraries and packages"
   ]
  },
  {
   "cell_type": "code",
   "execution_count": 25,
   "id": "c3debda6",
   "metadata": {},
   "outputs": [],
   "source": [
    "import numpy as np\n",
    "import pandas as pd\n",
    "from tensorflow import keras\n",
    "import matplotlib.pyplot as plt\n",
    "from sklearn.metrics import accuracy_score,confusion_matrix,classification_report\n",
    "import numpy as np\n",
    "import cv2\n",
    "import pandas as pd\n",
    "import sklearn\n",
    "from sklearn.model_selection import StratifiedKFold\n",
    "from sklearn.ensemble import RandomForestClassifier\n",
    "from sklearn.cluster import KMeans\n",
    "from sklearn.model_selection import train_test_split\n",
    "import seaborn as sns\n",
    "%matplotlib inline\n",
    "import skimage\n",
    "from skimage.transform import resize\n",
    "import tensorflow as tf\n",
    "import os\n",
    "from tqdm import tqdm\n",
    "import matplotlib.pyplot as plt\n",
    "import tensorflow as tf\n",
    "from tensorflow import keras\n",
    "import os\n",
    "from tqdm import tqdm\n",
    "import cv2\n",
    "import skimage\n",
    "from skimage.transform import resize\n",
    "from sklearn.model_selection import train_test_split\n",
    "import warnings\n",
    "warnings.filterwarnings('ignore')"
   ]
  },
  {
   "cell_type": "markdown",
   "id": "358bd944",
   "metadata": {},
   "source": [
    "### 2. Read dataset"
   ]
  },
  {
   "cell_type": "code",
   "execution_count": 2,
   "id": "5bcb0bfc",
   "metadata": {},
   "outputs": [],
   "source": [
    "train_dir = \"C:\\\\Users\\\\sonali\\\\Desktop\\\\asl-dataset\\\\asl_alphabet_train\\\\asl_alphabet_train\\\\\"\n",
    "test_dir = \"C:\\\\Users\\\\sonali\\\\Desktop\\\\asl-dataset\\\\asl_alphabet_test\\\\asl_alphabet_test\\\\\"\n",
    "train_len = 2900\n",
    "image_size=50"
   ]
  },
  {
   "cell_type": "markdown",
   "id": "386083f1",
   "metadata": {},
   "source": [
    "### 3. Label the dataset"
   ]
  },
  {
   "cell_type": "code",
   "execution_count": 3,
   "id": "2f14b5e9",
   "metadata": {},
   "outputs": [
    {
     "name": "stderr",
     "output_type": "stream",
     "text": [
      "100%|████████████████████████████████████████████████████████████████████████████████| 100/100 [00:01<00:00, 80.81it/s]\n",
      "100%|████████████████████████████████████████████████████████████████████████████████| 100/100 [00:01<00:00, 81.40it/s]\n",
      "100%|████████████████████████████████████████████████████████████████████████████████| 100/100 [00:01<00:00, 80.87it/s]\n",
      "100%|████████████████████████████████████████████████████████████████████████████████| 100/100 [00:01<00:00, 81.77it/s]\n",
      "100%|████████████████████████████████████████████████████████████████████████████████| 100/100 [00:01<00:00, 80.91it/s]\n",
      "100%|████████████████████████████████████████████████████████████████████████████████| 100/100 [00:01<00:00, 81.50it/s]\n",
      "100%|████████████████████████████████████████████████████████████████████████████████| 100/100 [00:01<00:00, 80.71it/s]\n",
      "100%|████████████████████████████████████████████████████████████████████████████████| 100/100 [00:01<00:00, 85.32it/s]\n",
      "100%|████████████████████████████████████████████████████████████████████████████████| 100/100 [00:01<00:00, 87.69it/s]\n",
      "100%|████████████████████████████████████████████████████████████████████████████████| 100/100 [00:01<00:00, 81.67it/s]\n",
      "100%|████████████████████████████████████████████████████████████████████████████████| 100/100 [00:01<00:00, 84.11it/s]\n",
      "100%|████████████████████████████████████████████████████████████████████████████████| 100/100 [00:01<00:00, 85.75it/s]\n",
      "100%|████████████████████████████████████████████████████████████████████████████████| 100/100 [00:01<00:00, 80.37it/s]\n",
      "100%|████████████████████████████████████████████████████████████████████████████████| 100/100 [00:01<00:00, 86.01it/s]\n",
      "100%|████████████████████████████████████████████████████████████████████████████████| 100/100 [00:01<00:00, 79.49it/s]\n",
      "100%|████████████████████████████████████████████████████████████████████████████████| 100/100 [00:01<00:00, 81.99it/s]\n",
      "100%|████████████████████████████████████████████████████████████████████████████████| 100/100 [00:01<00:00, 80.72it/s]\n",
      "100%|████████████████████████████████████████████████████████████████████████████████| 100/100 [00:01<00:00, 81.17it/s]\n",
      "100%|████████████████████████████████████████████████████████████████████████████████| 100/100 [00:01<00:00, 80.87it/s]\n",
      "100%|████████████████████████████████████████████████████████████████████████████████| 100/100 [00:01<00:00, 81.33it/s]\n",
      "100%|████████████████████████████████████████████████████████████████████████████████| 100/100 [00:01<00:00, 81.28it/s]\n",
      "100%|████████████████████████████████████████████████████████████████████████████████| 100/100 [00:01<00:00, 81.03it/s]\n",
      "100%|████████████████████████████████████████████████████████████████████████████████| 100/100 [00:01<00:00, 81.38it/s]\n",
      "100%|████████████████████████████████████████████████████████████████████████████████| 100/100 [00:01<00:00, 82.21it/s]\n",
      "100%|████████████████████████████████████████████████████████████████████████████████| 100/100 [00:01<00:00, 81.55it/s]\n",
      "100%|████████████████████████████████████████████████████████████████████████████████| 100/100 [00:01<00:00, 80.96it/s]\n",
      "100%|████████████████████████████████████████████████████████████████████████████████| 100/100 [00:01<00:00, 79.34it/s]\n",
      "100%|████████████████████████████████████████████████████████████████████████████████| 100/100 [00:01<00:00, 79.56it/s]\n",
      "100%|████████████████████████████████████████████████████████████████████████████████| 100/100 [00:01<00:00, 80.34it/s]"
     ]
    },
    {
     "name": "stdout",
     "output_type": "stream",
     "text": [
      "Shape (2900, 50, 50, 3)\n"
     ]
    },
    {
     "name": "stderr",
     "output_type": "stream",
     "text": [
      "\n"
     ]
    }
   ],
   "source": [
    "def get_data(folder):\n",
    "    X = np.empty((train_len, image_size, image_size, 3), dtype = np.float32)\n",
    "    y = np.empty((train_len), dtype = int)\n",
    "    cnt = 0\n",
    "    for folderName in os.listdir(folder):\n",
    "        if not folderName.startswith('.'):\n",
    "            if folderName in ['A']:\n",
    "                label = 0\n",
    "            if folderName in ['B']:\n",
    "                label = 1\n",
    "            if folderName in ['C']:\n",
    "                label = 2\n",
    "            if folderName in ['D']:\n",
    "                label = 3\n",
    "            if folderName in ['E']:\n",
    "                label = 4\n",
    "            if folderName in ['F']:\n",
    "                label = 5\n",
    "            if folderName in ['G']:\n",
    "                label = 6\n",
    "            if folderName in ['H']:\n",
    "                label = 7\n",
    "            if folderName in ['I']:\n",
    "                label = 8\n",
    "            if folderName in ['J']:\n",
    "                label = 9\n",
    "            if folderName in ['K']:\n",
    "                label = 10\n",
    "            if folderName in ['L']:\n",
    "                label = 11\n",
    "            if folderName in ['M']:\n",
    "                label = 12\n",
    "            if folderName in ['N']:\n",
    "                label = 13\n",
    "            if folderName in ['O']:\n",
    "                label = 14\n",
    "            if folderName in ['P']:\n",
    "                label = 15\n",
    "            if folderName in ['Q']:\n",
    "                label = 16\n",
    "            if folderName in ['R']:\n",
    "                label = 17\n",
    "            if folderName in ['S']:\n",
    "                label = 18\n",
    "            if folderName in ['T']:\n",
    "                label = 19\n",
    "            if folderName in ['U']:\n",
    "                label = 20\n",
    "            if folderName in ['V']:\n",
    "                label = 21\n",
    "            if folderName in ['W']:\n",
    "                label = 22\n",
    "            if folderName in ['X']:\n",
    "                label = 23\n",
    "            if folderName in ['Y']:\n",
    "                label = 24\n",
    "            if folderName in ['Z']:\n",
    "                label = 25\n",
    "            if folderName in ['del']:\n",
    "                label = 26\n",
    "            if folderName in ['nothing']:\n",
    "                label = 27\n",
    "            if folderName in ['space']:\n",
    "                label = 28\n",
    "            for image_filename in tqdm(os.listdir(folder + folderName)):\n",
    "                img_file = cv2.imread(folder + folderName + '/' + image_filename)\n",
    "                if img_file is not None:\n",
    "                    img_file = skimage.transform.resize(img_file, (image_size, image_size, 3))\n",
    "                    img_arr = np.asarray(img_file).reshape((-1, image_size, image_size, 3))\n",
    "                   \n",
    "                    X[cnt] = img_arr\n",
    "                    y[cnt] = label\n",
    "                    cnt += 1\n",
    "    return X,y\n",
    "                             \n",
    "\n",
    "letters, labels= get_data(train_dir)\n",
    "\n",
    "print(\"Shape\", letters.shape)"
   ]
  },
  {
   "cell_type": "code",
   "execution_count": 4,
   "id": "43f4cbe3",
   "metadata": {},
   "outputs": [],
   "source": [
    "label_names = ['A','B','C','D','E','F','G','H','I','J','K','L','M','N','O','P','Q','R','S','T','U','V','W','X','Y','Z','del','nothing','space']"
   ]
  },
  {
   "cell_type": "markdown",
   "id": "de1aa2d7",
   "metadata": {},
   "source": [
    "### 4. Split into train and test datasets; independent and dependent variables"
   ]
  },
  {
   "cell_type": "code",
   "execution_count": 5,
   "id": "b852f7b7",
   "metadata": {},
   "outputs": [
    {
     "name": "stdout",
     "output_type": "stream",
     "text": [
      "Shape of X_test  (870, 50, 50, 3)\n",
      "Shape of X_train  (1430, 50, 50, 3)\n"
     ]
    }
   ],
   "source": [
    "import tensorflow as tf\n",
    "\n",
    "X_train, X_test, y_train, y_test = train_test_split(letters, labels, test_size=0.3, random_state=42)\n",
    "\n",
    "X_valid, X_train = X_train[:600] / 255., X_train[600:] / 255.\n",
    "y_valid, y_train = y_train[:600], y_train[600:]\n",
    "X_test = X_test / 255.\n",
    "print(\"Shape of X_test \", X_test.shape)\n",
    "print(\"Shape of X_train \", X_train.shape)"
   ]
  },
  {
   "cell_type": "markdown",
   "id": "f42c0c18",
   "metadata": {},
   "source": [
    "### 5. Image Preprocessing\n",
    "\n",
    "Reshape the images since sklearn expects the input to be a 2D array"
   ]
  },
  {
   "cell_type": "code",
   "execution_count": 6,
   "id": "bffd6961",
   "metadata": {},
   "outputs": [],
   "source": [
    "nsamples, nx, ny, nrgb = X_train.shape\n",
    "x_train2 = X_train.reshape((nsamples,nx*ny*nrgb))\n",
    "nsamples, nx, ny, nrgb = X_test.shape\n",
    "x_test2 = X_test.reshape((nsamples,nx*ny*nrgb))"
   ]
  },
  {
   "cell_type": "markdown",
   "id": "732cd099",
   "metadata": {},
   "source": [
    "### 6. Apply the ML Models for Classification"
   ]
  },
  {
   "cell_type": "markdown",
   "id": "3f436ec7",
   "metadata": {},
   "source": [
    "##### i. Random Forest Classifier"
   ]
  },
  {
   "cell_type": "code",
   "execution_count": 26,
   "id": "917dcb09",
   "metadata": {},
   "outputs": [
    {
     "name": "stdout",
     "output_type": "stream",
     "text": [
      "Random Forest Accuracy: \n",
      "97.70114942528735 %\n"
     ]
    }
   ],
   "source": [
    "from sklearn.ensemble import RandomForestClassifier\n",
    "rfm=RandomForestClassifier(n_estimators=10,oob_score=True,n_jobs=-1, random_state=20,max_features=None,min_samples_leaf=2)\n",
    "rfm.fit(x_train2,y_train)\n",
    "rfm_ypred=rfm.predict(x_test2)\n",
    "rfm_acc = sklearn.metrics.accuracy_score(y_test,rfm_ypred)\n",
    "print(\"Random Forest Accuracy: \")\n",
    "print(rfm_acc*100,\"%\")"
   ]
  },
  {
   "cell_type": "markdown",
   "id": "dfbfdabe",
   "metadata": {},
   "source": [
    "##### ii. Logistic Regression"
   ]
  },
  {
   "cell_type": "code",
   "execution_count": 29,
   "id": "2c8964e7",
   "metadata": {},
   "outputs": [
    {
     "name": "stdout",
     "output_type": "stream",
     "text": [
      "Logistic Regression Accuracy: \n",
      "23.908045977011493 %\n"
     ]
    }
   ],
   "source": [
    "#Using Logistic Regression\n",
    "from sklearn.linear_model import LogisticRegression\n",
    "lr=LogisticRegression()\n",
    "lr.fit(x_train2,y_train)\n",
    "lr_ypred=lr.predict(x_test2)\n",
    "acc_lr = sklearn.metrics.accuracy_score(y_test, lr_ypred)\n",
    "print(\"Logistic Regression Accuracy: \")\n",
    "print(acc_lr*100,\"%\")"
   ]
  },
  {
   "cell_type": "markdown",
   "id": "cacc90df",
   "metadata": {},
   "source": [
    "##### iii. Naive Bayes"
   ]
  },
  {
   "cell_type": "code",
   "execution_count": 9,
   "id": "261057f6",
   "metadata": {},
   "outputs": [
    {
     "name": "stdout",
     "output_type": "stream",
     "text": [
      "Naive Bayes Accuracy: \n",
      "89.19540229885058 %\n"
     ]
    }
   ],
   "source": [
    "from sklearn.naive_bayes import GaussianNB\n",
    "nb=GaussianNB()\n",
    "nb.fit(x_train2,y_train)\n",
    "nb_ypred=nb.predict(x_test2)\n",
    "nb_acc = sklearn.metrics.accuracy_score(y_test,nb_ypred)\n",
    "print(\"Naive Bayes Accuracy: \")\n",
    "print(nb_acc*100,\"%\")"
   ]
  },
  {
   "cell_type": "markdown",
   "id": "f0a43138",
   "metadata": {},
   "source": [
    "##### iv. Stochastic Gradient Descent"
   ]
  },
  {
   "cell_type": "code",
   "execution_count": 10,
   "id": "a2832f81",
   "metadata": {},
   "outputs": [
    {
     "name": "stdout",
     "output_type": "stream",
     "text": [
      "Stochastic Gradient Descent Accuracy: \n",
      "40.804597701149426 %\n"
     ]
    }
   ],
   "source": [
    "from sklearn.linear_model import SGDClassifier\n",
    "sgd=SGDClassifier(loss='modified_huber',shuffle=True, random_state=15)\n",
    "sgd.fit(x_train2,y_train)\n",
    "sgd_ypred=sgd.predict(x_test2)\n",
    "sgd_acc = sklearn.metrics.accuracy_score(y_test,sgd_ypred)\n",
    "print(\"Stochastic Gradient Descent Accuracy: \")\n",
    "print(sgd_acc*100,\"%\")"
   ]
  },
  {
   "cell_type": "markdown",
   "id": "01f53da6",
   "metadata": {},
   "source": [
    "##### v. K-Nearest Neighbour"
   ]
  },
  {
   "cell_type": "code",
   "execution_count": 11,
   "id": "fef08167",
   "metadata": {},
   "outputs": [
    {
     "name": "stdout",
     "output_type": "stream",
     "text": [
      "K-Nearest Neighbour Accuracy: \n",
      "95.7471264367816 %\n"
     ]
    }
   ],
   "source": [
    "from sklearn.neighbors import KNeighborsClassifier\n",
    "knn=KNeighborsClassifier(n_neighbors=3)\n",
    "knn.fit(x_train2,y_train)\n",
    "knn_ypred=knn.predict(x_test2)\n",
    "knn_acc = sklearn.metrics.accuracy_score(y_test,knn_ypred)\n",
    "print(\"K-Nearest Neighbour Accuracy: \")\n",
    "print(knn_acc*100,\"%\")"
   ]
  },
  {
   "cell_type": "markdown",
   "id": "3ac946c7",
   "metadata": {},
   "source": [
    "#### vi. Decision Tree "
   ]
  },
  {
   "cell_type": "code",
   "execution_count": 12,
   "id": "021f0776",
   "metadata": {
    "scrolled": true
   },
   "outputs": [
    {
     "name": "stdout",
     "output_type": "stream",
     "text": [
      "Decision Tree Accuracy: \n",
      "92.52873563218391 %\n"
     ]
    }
   ],
   "source": [
    "from sklearn.tree import DecisionTreeClassifier\n",
    "dtree=DecisionTreeClassifier(max_depth=40,random_state=18,max_features=None, min_samples_leaf=8)\n",
    "dtree.fit(x_train2,y_train)\n",
    "dtree_ypred=dtree.predict(x_test2)\n",
    "dtree_acc = sklearn.metrics.accuracy_score(y_test,dtree_ypred)\n",
    "print(\"Decision Tree Accuracy: \")\n",
    "print(dtree_acc*100,\"%\")"
   ]
  },
  {
   "cell_type": "markdown",
   "id": "43a7007b",
   "metadata": {},
   "source": [
    "#### vii. Support Vector Machine"
   ]
  },
  {
   "cell_type": "code",
   "execution_count": 27,
   "id": "72db2c0a",
   "metadata": {},
   "outputs": [
    {
     "name": "stdout",
     "output_type": "stream",
     "text": [
      "Support Vector Machine Accuracy: \n",
      "82.06896551724138 %\n"
     ]
    }
   ],
   "source": [
    "from sklearn.svm import SVC \n",
    "svm=SVC(kernel=\"linear\",C=100,random_state=None)\n",
    "svm.fit(x_train2,y_train)\n",
    "svm_ypred=svm.predict(x_test2)\n",
    "svm_acc = sklearn.metrics.accuracy_score(y_test,svm_ypred)\n",
    "print(\"Support Vector Machine Accuracy: \")\n",
    "print(svm_acc*100,\"%\")"
   ]
  },
  {
   "cell_type": "markdown",
   "id": "9a9c82e1",
   "metadata": {},
   "source": [
    "### 7. Test with test images (Optional)"
   ]
  },
  {
   "cell_type": "code",
   "execution_count": 21,
   "id": "49d84224",
   "metadata": {},
   "outputs": [
    {
     "name": "stdout",
     "output_type": "stream",
     "text": [
      "G\n"
     ]
    }
   ],
   "source": [
    "img_path=\"C:\\\\Users\\\\sonali\\\\Desktop\\\\asl-dataset\\\\asl_alphabet_test\\\\asl_alphabet_test\\\\G_test.jpg\"\n",
    "\n",
    "img_arr=cv2.imread(img_path)\n",
    "img_arr=cv2.resize(img_arr,(50,50))\n",
    "\n",
    "nx, ny, nrgb = img_arr.shape\n",
    "img_arr2 = img_arr.reshape(1,(nx*ny*nrgb))\n",
    "\n",
    "classes = ['A','B','C','D','E','F','G','H','I','J','K','L','M','N','O','P','Q','R','S','T','U','V','W','X','Y','Z','del','nothing','space']\n",
    "ans=rfm.predict(img_arr2)\n",
    "\n",
    "print(label_names[ans[0]])"
   ]
  },
  {
   "cell_type": "markdown",
   "id": "3e7c8188",
   "metadata": {},
   "source": [
    "### 8. Comparative Analysis of Results (Visualization)"
   ]
  },
  {
   "cell_type": "code",
   "execution_count": 41,
   "id": "a6c4c237",
   "metadata": {},
   "outputs": [
    {
     "name": "stdout",
     "output_type": "stream",
     "text": [
      "Classification models in descending order of Accuracy:\n"
     ]
    },
    {
     "data": {
      "image/png": "[encoded data removed]",
      "text/plain": [
       "<Figure size 720x576 with 1 Axes>"
      ]
     },
     "metadata": {
      "needs_background": "light"
     },
     "output_type": "display_data"
    }
   ],
   "source": [
    "accuracies = {\"LR\": acc_lr,  \n",
    "             \"Naive\": nb_acc, \n",
    "             \"SGD\": sgd_acc,\n",
    "             \"KNN\": knn_acc, \n",
    "             \"DT\": dtree_acc,\n",
    "            \"RFM\": rfm_acc,\n",
    "            \"SVM\": svm_acc\n",
    "             }\n",
    "\n",
    "lists = sorted(accuracies.items(), key=lambda x: x[1]*100) # sorted by key, return a list of tuples\n",
    "print(\"Classification models in descending order of Accuracy:\")\n",
    "sorted(accuracies.items(), key=lambda x: x[1],reverse=True)\n",
    "\n",
    "plt.figure(figsize=(10,8))\n",
    "plt.bar(*zip(*lists), color=\"coral\")\n",
    "plt.ylim(0,1)\n",
    "plt.title('Classification Models vs Accuracy')\n",
    "plt.xlabel('Classification Models')\n",
    "plt.ylabel('Accuracy')\n",
    "plt.show()"
   ]
  },
  {
   "cell_type": "code",
   "execution_count": 68,
   "id": "6b6966c4",
   "metadata": {},
   "outputs": [
    {
     "data": {
      "text/plain": [
       "{'LR': 0.23908045977011494,\n",
       " 'Naive': 0.8919540229885058,\n",
       " 'SGD': 0.40804597701149425,\n",
       " 'KNN': 0.957471264367816,\n",
       " 'DT': 0.9252873563218391,\n",
       " 'RFM': 0.9770114942528736,\n",
       " 'SVM': 0.8206896551724138}"
      ]
     },
     "execution_count": 68,
     "metadata": {},
     "output_type": "execute_result"
    }
   ],
   "source": [
    "accuracies"
   ]
  },
  {
   "cell_type": "markdown",
   "id": "7400b1b5",
   "metadata": {},
   "source": [
    "### 9. Classification Report for best models"
   ]
  },
  {
   "cell_type": "code",
   "execution_count": 46,
   "id": "d2937c1c",
   "metadata": {},
   "outputs": [],
   "source": [
    "from sklearn.metrics import classification_report\n",
    "targetNames= label_names"
   ]
  },
  {
   "cell_type": "code",
   "execution_count": 51,
   "id": "13399386",
   "metadata": {},
   "outputs": [
    {
     "name": "stdout",
     "output_type": "stream",
     "text": [
      "For Random Forest\n",
      "              precision    recall  f1-score   support\n",
      "\n",
      "           A       1.00      1.00      1.00        24\n",
      "           B       1.00      1.00      1.00        28\n",
      "           C       1.00      1.00      1.00        38\n",
      "           D       1.00      1.00      1.00        25\n",
      "           E       1.00      1.00      1.00        33\n",
      "           F       1.00      1.00      1.00        29\n",
      "           G       1.00      1.00      1.00        31\n",
      "           H       1.00      1.00      1.00        27\n",
      "           I       1.00      1.00      1.00        25\n",
      "           J       0.95      1.00      0.97        35\n",
      "           K       1.00      0.92      0.96        26\n",
      "           L       0.90      1.00      0.95        27\n",
      "           M       1.00      1.00      1.00        29\n",
      "           N       1.00      1.00      1.00        31\n",
      "           O       1.00      1.00      1.00        29\n",
      "           P       1.00      1.00      1.00        36\n",
      "           Q       1.00      1.00      1.00        31\n",
      "           R       1.00      1.00      1.00        29\n",
      "           S       1.00      1.00      1.00        36\n",
      "           T       1.00      1.00      1.00        28\n",
      "           U       1.00      1.00      1.00        33\n",
      "           V       0.81      0.87      0.84        30\n",
      "           W       0.91      0.67      0.77        30\n",
      "           X       1.00      1.00      1.00        28\n",
      "           Y       0.80      0.90      0.85        31\n",
      "           Z       1.00      0.96      0.98        25\n",
      "         del       1.00      1.00      1.00        43\n",
      "     nothing       1.00      1.00      1.00        29\n",
      "       space       1.00      1.00      1.00        24\n",
      "\n",
      "    accuracy                           0.98       870\n",
      "   macro avg       0.98      0.98      0.98       870\n",
      "weighted avg       0.98      0.98      0.98       870\n",
      "\n"
     ]
    }
   ],
   "source": [
    "print('For Random Forest')\n",
    "print(classification_report(y_test, rfm_ypred, target_names=targetNames))"
   ]
  },
  {
   "cell_type": "code",
   "execution_count": 48,
   "id": "fc3b4366",
   "metadata": {},
   "outputs": [
    {
     "name": "stdout",
     "output_type": "stream",
     "text": [
      "For Decision Tree\n",
      "              precision    recall  f1-score   support\n",
      "\n",
      "           A       0.96      0.92      0.94        24\n",
      "           B       0.96      0.96      0.96        28\n",
      "           C       1.00      1.00      1.00        38\n",
      "           D       0.71      1.00      0.83        25\n",
      "           E       1.00      0.76      0.86        33\n",
      "           F       0.96      0.90      0.93        29\n",
      "           G       1.00      1.00      1.00        31\n",
      "           H       1.00      1.00      1.00        27\n",
      "           I       1.00      1.00      1.00        25\n",
      "           J       0.88      0.86      0.87        35\n",
      "           K       0.81      0.85      0.83        26\n",
      "           L       0.79      0.96      0.87        27\n",
      "           M       0.85      0.97      0.90        29\n",
      "           N       1.00      0.97      0.98        31\n",
      "           O       1.00      1.00      1.00        29\n",
      "           P       0.97      1.00      0.99        36\n",
      "           Q       1.00      0.97      0.98        31\n",
      "           R       0.97      1.00      0.98        29\n",
      "           S       0.97      0.92      0.94        36\n",
      "           T       0.93      0.96      0.95        28\n",
      "           U       1.00      1.00      1.00        33\n",
      "           V       0.71      0.67      0.69        30\n",
      "           W       0.83      0.50      0.62        30\n",
      "           X       1.00      0.96      0.98        28\n",
      "           Y       0.65      0.90      0.76        31\n",
      "           Z       1.00      0.80      0.89        25\n",
      "         del       1.00      1.00      1.00        43\n",
      "     nothing       1.00      1.00      1.00        29\n",
      "       space       1.00      1.00      1.00        24\n",
      "\n",
      "    accuracy                           0.93       870\n",
      "   macro avg       0.93      0.92      0.92       870\n",
      "weighted avg       0.93      0.93      0.92       870\n",
      "\n"
     ]
    }
   ],
   "source": [
    "print('For Decision Tree')\n",
    "print(classification_report(y_test, dtree_ypred, target_names=targetNames))"
   ]
  },
  {
   "cell_type": "code",
   "execution_count": 49,
   "id": "75f68853",
   "metadata": {},
   "outputs": [
    {
     "name": "stdout",
     "output_type": "stream",
     "text": [
      "For SVM\n",
      "              precision    recall  f1-score   support\n",
      "\n",
      "           A       0.92      0.96      0.94        24\n",
      "           B       1.00      0.89      0.94        28\n",
      "           C       1.00      1.00      1.00        38\n",
      "           D       0.96      0.88      0.92        25\n",
      "           E       0.89      1.00      0.94        33\n",
      "           F       0.18      0.17      0.18        29\n",
      "           G       1.00      1.00      1.00        31\n",
      "           H       0.92      0.89      0.91        27\n",
      "           I       1.00      1.00      1.00        25\n",
      "           J       1.00      0.97      0.99        35\n",
      "           K       0.56      0.73      0.63        26\n",
      "           L       0.00      0.00      0.00        27\n",
      "           M       0.45      0.86      0.59        29\n",
      "           N       1.00      1.00      1.00        31\n",
      "           O       0.74      0.90      0.81        29\n",
      "           P       1.00      1.00      1.00        36\n",
      "           Q       1.00      1.00      1.00        31\n",
      "           R       0.80      0.83      0.81        29\n",
      "           S       1.00      0.94      0.97        36\n",
      "           T       0.92      0.79      0.85        28\n",
      "           U       0.85      0.85      0.85        33\n",
      "           V       0.48      0.33      0.39        30\n",
      "           W       0.44      0.53      0.48        30\n",
      "           X       0.81      0.89      0.85        28\n",
      "           Y       0.81      0.55      0.65        31\n",
      "           Z       0.67      0.64      0.65        25\n",
      "         del       0.96      1.00      0.98        43\n",
      "     nothing       0.85      1.00      0.92        29\n",
      "       space       1.00      0.92      0.96        24\n",
      "\n",
      "    accuracy                           0.82       870\n",
      "   macro avg       0.80      0.81      0.80       870\n",
      "weighted avg       0.81      0.82      0.81       870\n",
      "\n"
     ]
    }
   ],
   "source": [
    "print('For SVM')\n",
    "print(classification_report(y_test, svm_ypred, target_names=targetNames))"
   ]
  },
  {
   "cell_type": "code",
   "execution_count": 50,
   "id": "7bff36c7",
   "metadata": {},
   "outputs": [
    {
     "name": "stdout",
     "output_type": "stream",
     "text": [
      "For Naive Bayes\n",
      "              precision    recall  f1-score   support\n",
      "\n",
      "           A       0.67      1.00      0.80        24\n",
      "           B       1.00      0.86      0.92        28\n",
      "           C       1.00      0.97      0.99        38\n",
      "           D       1.00      0.76      0.86        25\n",
      "           E       0.89      1.00      0.94        33\n",
      "           F       0.94      0.55      0.70        29\n",
      "           G       1.00      1.00      1.00        31\n",
      "           H       1.00      0.85      0.92        27\n",
      "           I       1.00      1.00      1.00        25\n",
      "           J       1.00      0.91      0.96        35\n",
      "           K       1.00      1.00      1.00        26\n",
      "           L       1.00      0.78      0.88        27\n",
      "           M       0.57      0.97      0.72        29\n",
      "           N       1.00      1.00      1.00        31\n",
      "           O       0.93      0.90      0.91        29\n",
      "           P       0.92      1.00      0.96        36\n",
      "           Q       1.00      0.94      0.97        31\n",
      "           R       0.94      1.00      0.97        29\n",
      "           S       1.00      0.94      0.97        36\n",
      "           T       1.00      0.86      0.92        28\n",
      "           U       1.00      0.94      0.97        33\n",
      "           V       0.75      0.20      0.32        30\n",
      "           W       0.56      0.80      0.66        30\n",
      "           X       1.00      0.96      0.98        28\n",
      "           Y       0.74      0.74      0.74        31\n",
      "           Z       0.61      0.88      0.72        25\n",
      "         del       1.00      0.98      0.99        43\n",
      "     nothing       1.00      1.00      1.00        29\n",
      "       space       0.80      1.00      0.89        24\n",
      "\n",
      "    accuracy                           0.89       870\n",
      "   macro avg       0.91      0.89      0.88       870\n",
      "weighted avg       0.91      0.89      0.89       870\n",
      "\n"
     ]
    }
   ],
   "source": [
    "print('For Naive Bayes')\n",
    "print(classification_report(y_test, nb_ypred, target_names=targetNames))"
   ]
  },
  {
   "cell_type": "code",
   "execution_count": 52,
   "id": "4f538878",
   "metadata": {},
   "outputs": [
    {
     "name": "stdout",
     "output_type": "stream",
     "text": [
      "For KNN\n",
      "              precision    recall  f1-score   support\n",
      "\n",
      "           A       1.00      1.00      1.00        24\n",
      "           B       0.96      0.96      0.96        28\n",
      "           C       1.00      1.00      1.00        38\n",
      "           D       1.00      0.88      0.94        25\n",
      "           E       0.91      0.97      0.94        33\n",
      "           F       0.88      0.97      0.92        29\n",
      "           G       0.97      1.00      0.98        31\n",
      "           H       1.00      0.89      0.94        27\n",
      "           I       1.00      1.00      1.00        25\n",
      "           J       1.00      1.00      1.00        35\n",
      "           K       0.90      1.00      0.95        26\n",
      "           L       1.00      0.96      0.98        27\n",
      "           M       0.97      0.97      0.97        29\n",
      "           N       1.00      1.00      1.00        31\n",
      "           O       0.91      1.00      0.95        29\n",
      "           P       1.00      1.00      1.00        36\n",
      "           Q       1.00      1.00      1.00        31\n",
      "           R       0.82      0.93      0.87        29\n",
      "           S       1.00      1.00      1.00        36\n",
      "           T       1.00      1.00      1.00        28\n",
      "           U       0.93      0.82      0.87        33\n",
      "           V       0.84      0.70      0.76        30\n",
      "           W       0.84      0.87      0.85        30\n",
      "           X       0.87      0.93      0.90        28\n",
      "           Y       1.00      0.90      0.95        31\n",
      "           Z       1.00      1.00      1.00        25\n",
      "         del       1.00      1.00      1.00        43\n",
      "     nothing       1.00      1.00      1.00        29\n",
      "       space       1.00      1.00      1.00        24\n",
      "\n",
      "    accuracy                           0.96       870\n",
      "   macro avg       0.96      0.96      0.96       870\n",
      "weighted avg       0.96      0.96      0.96       870\n",
      "\n"
     ]
    }
   ],
   "source": [
    "print('For KNN')\n",
    "print(classification_report(y_test, knn_ypred, target_names=targetNames))"
   ]
  }
 ],
 "metadata": {
  "kernelspec": {
   "display_name": "Python 3 (ipykernel)",
   "language": "python",
   "name": "python3"
  },
  "language_info": {
   "codemirror_mode": {
    "name": "ipython",
    "version": 3
   },
   "file_extension": ".py",
   "mimetype": "text/x-python",
   "name": "python",
   "nbconvert_exporter": "python",
   "pygments_lexer": "ipython3",
   "version": "3.9.6"
  }
 },
 "nbformat": 4,
 "nbformat_minor": 5
}
